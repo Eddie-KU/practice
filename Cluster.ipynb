{
 "cells": [
  {
   "cell_type": "code",
   "execution_count": 1,
   "metadata": {},
   "outputs": [
    {
     "data": {
      "text/html": [
       "<div>\n",
       "<style scoped>\n",
       "    .dataframe tbody tr th:only-of-type {\n",
       "        vertical-align: middle;\n",
       "    }\n",
       "\n",
       "    .dataframe tbody tr th {\n",
       "        vertical-align: top;\n",
       "    }\n",
       "\n",
       "    .dataframe thead th {\n",
       "        text-align: right;\n",
       "    }\n",
       "</style>\n",
       "<table border=\"1\" class=\"dataframe\">\n",
       "  <thead>\n",
       "    <tr style=\"text-align: right;\">\n",
       "      <th></th>\n",
       "      <th>sepal length (cm)</th>\n",
       "      <th>sepal width (cm)</th>\n",
       "      <th>petal length (cm)</th>\n",
       "      <th>petal width (cm)</th>\n",
       "      <th>target</th>\n",
       "    </tr>\n",
       "  </thead>\n",
       "  <tbody>\n",
       "    <tr>\n",
       "      <th>0</th>\n",
       "      <td>5.1</td>\n",
       "      <td>3.5</td>\n",
       "      <td>1.4</td>\n",
       "      <td>0.2</td>\n",
       "      <td>0</td>\n",
       "    </tr>\n",
       "    <tr>\n",
       "      <th>1</th>\n",
       "      <td>4.9</td>\n",
       "      <td>3.0</td>\n",
       "      <td>1.4</td>\n",
       "      <td>0.2</td>\n",
       "      <td>0</td>\n",
       "    </tr>\n",
       "    <tr>\n",
       "      <th>2</th>\n",
       "      <td>4.7</td>\n",
       "      <td>3.2</td>\n",
       "      <td>1.3</td>\n",
       "      <td>0.2</td>\n",
       "      <td>0</td>\n",
       "    </tr>\n",
       "    <tr>\n",
       "      <th>3</th>\n",
       "      <td>4.6</td>\n",
       "      <td>3.1</td>\n",
       "      <td>1.5</td>\n",
       "      <td>0.2</td>\n",
       "      <td>0</td>\n",
       "    </tr>\n",
       "    <tr>\n",
       "      <th>4</th>\n",
       "      <td>5.0</td>\n",
       "      <td>3.6</td>\n",
       "      <td>1.4</td>\n",
       "      <td>0.2</td>\n",
       "      <td>0</td>\n",
       "    </tr>\n",
       "    <tr>\n",
       "      <th>...</th>\n",
       "      <td>...</td>\n",
       "      <td>...</td>\n",
       "      <td>...</td>\n",
       "      <td>...</td>\n",
       "      <td>...</td>\n",
       "    </tr>\n",
       "    <tr>\n",
       "      <th>145</th>\n",
       "      <td>6.7</td>\n",
       "      <td>3.0</td>\n",
       "      <td>5.2</td>\n",
       "      <td>2.3</td>\n",
       "      <td>2</td>\n",
       "    </tr>\n",
       "    <tr>\n",
       "      <th>146</th>\n",
       "      <td>6.3</td>\n",
       "      <td>2.5</td>\n",
       "      <td>5.0</td>\n",
       "      <td>1.9</td>\n",
       "      <td>2</td>\n",
       "    </tr>\n",
       "    <tr>\n",
       "      <th>147</th>\n",
       "      <td>6.5</td>\n",
       "      <td>3.0</td>\n",
       "      <td>5.2</td>\n",
       "      <td>2.0</td>\n",
       "      <td>2</td>\n",
       "    </tr>\n",
       "    <tr>\n",
       "      <th>148</th>\n",
       "      <td>6.2</td>\n",
       "      <td>3.4</td>\n",
       "      <td>5.4</td>\n",
       "      <td>2.3</td>\n",
       "      <td>2</td>\n",
       "    </tr>\n",
       "    <tr>\n",
       "      <th>149</th>\n",
       "      <td>5.9</td>\n",
       "      <td>3.0</td>\n",
       "      <td>5.1</td>\n",
       "      <td>1.8</td>\n",
       "      <td>2</td>\n",
       "    </tr>\n",
       "  </tbody>\n",
       "</table>\n",
       "<p>150 rows × 5 columns</p>\n",
       "</div>"
      ],
      "text/plain": [
       "     sepal length (cm)  sepal width (cm)  petal length (cm)  petal width (cm)  \\\n",
       "0                  5.1               3.5                1.4               0.2   \n",
       "1                  4.9               3.0                1.4               0.2   \n",
       "2                  4.7               3.2                1.3               0.2   \n",
       "3                  4.6               3.1                1.5               0.2   \n",
       "4                  5.0               3.6                1.4               0.2   \n",
       "..                 ...               ...                ...               ...   \n",
       "145                6.7               3.0                5.2               2.3   \n",
       "146                6.3               2.5                5.0               1.9   \n",
       "147                6.5               3.0                5.2               2.0   \n",
       "148                6.2               3.4                5.4               2.3   \n",
       "149                5.9               3.0                5.1               1.8   \n",
       "\n",
       "     target  \n",
       "0         0  \n",
       "1         0  \n",
       "2         0  \n",
       "3         0  \n",
       "4         0  \n",
       "..      ...  \n",
       "145       2  \n",
       "146       2  \n",
       "147       2  \n",
       "148       2  \n",
       "149       2  \n",
       "\n",
       "[150 rows x 5 columns]"
      ]
     },
     "execution_count": 1,
     "metadata": {},
     "output_type": "execute_result"
    }
   ],
   "source": [
    "#從sklearn 下載 iris 資料集用 KMeans 做 Cluster \n",
    "\n",
    "from sklearn.datasets import load_iris \n",
    "import pandas as pd\n",
    "\n",
    "\n",
    "iris = load_iris()\n",
    "df = pd.DataFrame(iris[\"data\"], columns = iris[\"feature_names\"]) \n",
    "df[\"target\"] = iris[\"target\"]\n",
    "\n",
    "df"
   ]
  },
  {
   "cell_type": "code",
   "execution_count": 2,
   "metadata": {},
   "outputs": [],
   "source": [
    "#用讀取過的資料做出公式, 再拿沒讀取過的資料驗證公式的好壞\n",
    "\n",
    "from sklearn.model_selection import train_test_split\n",
    "# train _test_split 常用的交叉驗證函式，功能是從樣本中隨機的按比例選取train_data和test_data。 tuple(特徵 90%,特徵10%,目標90%,目標10%)\n",
    "\n",
    "\n",
    "x_train, x_test, y_train, y_test = train_test_split(iris[\"data\"], iris[\"target\"],test_size = 0.1)\n",
    "# train_test_split()三個重要參數(x題目、y答案、多少比例做驗證)"
   ]
  },
  {
   "cell_type": "code",
   "execution_count": 3,
   "metadata": {},
   "outputs": [
    {
     "data": {
      "text/plain": [
       "KMeans(algorithm='auto', copy_x=True, init='k-means++', max_iter=300,\n",
       "       n_clusters=3, n_init=10, n_jobs=None, precompute_distances='auto',\n",
       "       random_state=None, tol=0.0001, verbose=0)"
      ]
     },
     "execution_count": 3,
     "metadata": {},
     "output_type": "execute_result"
    }
   ],
   "source": [
    "#做訓練(fit)\n",
    "from sklearn.cluster import KMeans # KMeans做分群的函式\n",
    "clu = KMeans(n_clusters = 3) #在已知幾種的情況下，k就可以直接指定\n",
    "\n",
    "clu.fit(x_train) #分群在做訓練時不能帶答案(y)進去，只能帶題目\n"
   ]
  },
  {
   "cell_type": "code",
   "execution_count": 4,
   "metadata": {},
   "outputs": [
    {
     "data": {
      "text/plain": [
       "array([2, 0, 1, 1, 2, 1, 1, 0, 0, 1, 0, 2, 0, 1, 1, 2, 1, 2, 0, 0, 1, 2,\n",
       "       1, 1, 0, 1, 0, 1, 2, 0, 1, 1, 1, 0, 2, 1, 0, 1, 2, 1, 0, 1, 1, 2,\n",
       "       2, 1, 1, 1, 2, 0, 2, 2, 0, 2, 2, 0, 0, 0, 1, 0, 0, 1, 1, 0, 1, 2,\n",
       "       0, 1, 0, 2, 1, 0, 1, 2, 0, 0, 0, 2, 2, 0, 2, 1, 1, 1, 0, 0, 2, 0,\n",
       "       1, 2, 1, 1, 1, 0, 0, 1, 2, 1, 1, 0, 1, 1, 0, 1, 2, 1, 2, 0, 2, 0,\n",
       "       1, 0, 1, 2, 1, 1, 0, 0, 1, 0, 2, 2, 1, 2, 0, 1, 2, 2, 1, 1, 0, 2,\n",
       "       2, 0, 1])"
      ]
     },
     "execution_count": 4,
     "metadata": {},
     "output_type": "execute_result"
    }
   ],
   "source": [
    "#看被訓練得資料怎麼被分群\n",
    "clu.labels_  "
   ]
  },
  {
   "cell_type": "code",
   "execution_count": 5,
   "metadata": {},
   "outputs": [
    {
     "name": "stdout",
     "output_type": "stream",
     "text": [
      "預測結果: [1, 0, 0, 0, 2, 1, 1, 1, 2, 0, 0, 0, 1, 1, 1]\n",
      "真正結果: [1, 0, 0, 0, 2, 1, 1, 2, 2, 0, 0, 0, 1, 1, 1]\n",
      "正確率: 0.9333333333333333\n"
     ]
    }
   ],
   "source": [
    "#驗證訓練出來的公式好壞 (正常做 KMeans分群 不需驗證，分類好即可 )\n",
    "\n",
    "pre = clu.predict(x_test) #預測.predict(x_test)\n",
    "print(\"預測結果:\",list(pre))\n",
    "print(\"真正結果:\", list(y_test))\n",
    "\n",
    "#衡量方法(sklearn.metrics)\n",
    "from sklearn.metrics import accuracy_score #準確率 ，有可能會結果 0 變成 1 或 2，多重新分群幾次即可\n",
    "score = accuracy_score(clu.predict(x_test),y_test)\n",
    "print(\"正確率:\",score)"
   ]
  },
  {
   "cell_type": "code",
   "execution_count": 11,
   "metadata": {
    "scrolled": true
   },
   "outputs": [
    {
     "name": "stdout",
     "output_type": "stream",
     "text": [
      "k值: [2, 3, 4, 5]\n",
      "Score: [0.681046169211746, 0.5528190123564091, 0.4980505049972867, 0.49308040671935127]\n"
     ]
    }
   ],
   "source": [
    "#當不知道 k時，用silhouette_score 把有可能的 k值 計算出來\n",
    "from sklearn.metrics import silhouette_score \n",
    "\n",
    "#刪除target (答案)\n",
    "x = df.drop([\"target\"],axis = 1) # axis = 1 drop行  ,   axis = 0 drop列 \n",
    "\n",
    "#創建空的list，放值 \n",
    "xs = []\n",
    "ys = []\n",
    "\n",
    "#嘗試 K的值2-5分別的準確率\n",
    "for k in range(2, 6):\n",
    "   \n",
    "    clu = KMeans(n_clusters = k)\n",
    "    clu.fit(x)\n",
    "   \n",
    "    s = silhouette_score(x, clu.labels_) #silhouette_score()參數(題目、分群的labels)\n",
    "        \n",
    "    xs.append(k)\n",
    "    ys.append(s)\n",
    "\n",
    "\n",
    "print(\"k值:\", xs)\n",
    "print(\"Score:\" ,ys)"
   ]
  },
  {
   "cell_type": "code",
   "execution_count": 14,
   "metadata": {},
   "outputs": [
    {
     "data": {
      "text/plain": [
       "Text(0, 0.5, 'Score')"
      ]
     },
     "execution_count": 14,
     "metadata": {},
     "output_type": "execute_result"
    },
    {
     "data": {
      "image/png": "[encoded data removed]",
      "text/plain": [
       "<Figure size 432x288 with 1 Axes>"
      ]
     },
     "metadata": {
      "needs_background": "light"
     },
     "output_type": "display_data"
    }
   ],
   "source": [
    "import matplotlib.pyplot as plt #視覺化做圖\n",
    "\n",
    "#在 jpnb裡 %matplotlib inline 可以省略.show()\n",
    "%matplotlib inline\n",
    "\n",
    "\n",
    "plt.plot(plotx,ploty,\"co--\") #plot參數(x座標、y座標)  第三個參數(更改線的顏色跟線條) 可搜尋 matplot pyplot 尋找format color 自訂參數 \n",
    "\n",
    "plt.title(\"Sihouette Score\") #字串只能打英文(不支援中文字)\n",
    "plt.xlabel(\"K\") \n",
    "plt.ylabel(\"Score\")"
   ]
  },
  {
   "cell_type": "code",
   "execution_count": null,
   "metadata": {},
   "outputs": [],
   "source": []
  }
 ],
 "metadata": {
  "kernelspec": {
   "display_name": "Python 3",
   "language": "python",
   "name": "python3"
  },
  "language_info": {
   "codemirror_mode": {
    "name": "ipython",
    "version": 3
   },
   "file_extension": ".py",
   "mimetype": "text/x-python",
   "name": "python",
   "nbconvert_exporter": "python",
   "pygments_lexer": "ipython3",
   "version": "3.6.0"
  }
 },
 "nbformat": 4,
 "nbformat_minor": 2
}
